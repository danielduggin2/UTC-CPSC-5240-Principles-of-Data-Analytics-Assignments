{
  "nbformat": 4,
  "nbformat_minor": 0,
  "metadata": {
    "colab": {
      "provenance": []
    },
    "kernelspec": {
      "name": "python3",
      "display_name": "Python 3"
    },
    "language_info": {
      "name": "python"
    }
  },
  "cells": [
    {
      "cell_type": "code",
      "execution_count": 11,
      "metadata": {
        "id": "LVUVWvqotd1U"
      },
      "outputs": [],
      "source": [
        "# Assignment 1\n",
        "import sklearn\n",
        "import numpy as np\n",
        "import pandas as pd\n",
        "import matplotlib\n",
        "import scipy\n",
        "import seaborn"
      ]
    },
    {
      "cell_type": "code",
      "source": [
        "def main():\n",
        "  print(\"Hello, I am Daniel Duggin\")\n",
        "  print(\"scikit-learn-version: \", sklearn.__version__)\n",
        "  print(\"numpy-version: \", np.__version__)\n",
        "  print(\"pandas-version: \", pd.__version__)\n",
        "  print(\"matplotlib-version: \", matplotlib.__version__)\n",
        "  print(\"scipy-version: \", scipy.__version__)\n",
        "  print(\"seaborn-version: \", seaborn.__version__)"
      ],
      "metadata": {
        "id": "iCVOFySNtnec"
      },
      "execution_count": 12,
      "outputs": []
    },
    {
      "cell_type": "code",
      "source": [
        "if __name__ == \"__main__\":\n",
        "  main()"
      ],
      "metadata": {
        "colab": {
          "base_uri": "https://localhost:8080/"
        },
        "id": "tr-4FfAQt2t3",
        "outputId": "36549721-0f5a-4bfc-db63-a9349e2eb6ce"
      },
      "execution_count": 13,
      "outputs": [
        {
          "output_type": "stream",
          "name": "stdout",
          "text": [
            "Hello, I am Daniel Duggin\n",
            "scikit-learn-version:  1.6.0\n",
            "numpy-version:  1.26.4\n",
            "pandas-version:  2.2.2\n",
            "matplotlib-version:  3.8.0\n",
            "scipy-version:  1.13.1\n",
            "seaborn-version:  0.13.2\n"
          ]
        }
      ]
    }
  ]
}